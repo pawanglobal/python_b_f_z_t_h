{
 "cells": [
  {
   "cell_type": "code",
   "execution_count": 1,
   "id": "205fc9a2",
   "metadata": {},
   "outputs": [],
   "source": [
    "# Decorators with Python overview"
   ]
  },
  {
   "cell_type": "code",
   "execution_count": 2,
   "id": "1476a782",
   "metadata": {},
   "outputs": [],
   "source": [
    "def fun():\n",
    "    return 1"
   ]
  },
  {
   "cell_type": "code",
   "execution_count": 3,
   "id": "12013e1f",
   "metadata": {},
   "outputs": [
    {
     "data": {
      "text/plain": [
       "1"
      ]
     },
     "execution_count": 3,
     "metadata": {},
     "output_type": "execute_result"
    }
   ],
   "source": [
    "1"
   ]
  },
  {
   "cell_type": "code",
   "execution_count": 4,
   "id": "e6521c04",
   "metadata": {},
   "outputs": [
    {
     "data": {
      "text/plain": [
       "<function __main__.fun()>"
      ]
     },
     "execution_count": 4,
     "metadata": {},
     "output_type": "execute_result"
    }
   ],
   "source": [
    "fun\n"
   ]
  },
  {
   "cell_type": "code",
   "execution_count": 6,
   "id": "55319528",
   "metadata": {},
   "outputs": [],
   "source": [
    "def hello():\n",
    "    return 'hello'"
   ]
  },
  {
   "cell_type": "code",
   "execution_count": 7,
   "id": "12429365",
   "metadata": {},
   "outputs": [
    {
     "data": {
      "text/plain": [
       "'hello'"
      ]
     },
     "execution_count": 7,
     "metadata": {},
     "output_type": "execute_result"
    }
   ],
   "source": [
    "hello()"
   ]
  },
  {
   "cell_type": "code",
   "execution_count": 8,
   "id": "0dd0a9e2",
   "metadata": {},
   "outputs": [
    {
     "data": {
      "text/plain": [
       "<function __main__.hello()>"
      ]
     },
     "execution_count": 8,
     "metadata": {},
     "output_type": "execute_result"
    }
   ],
   "source": [
    "hello"
   ]
  },
  {
   "cell_type": "code",
   "execution_count": 9,
   "id": "6346a2f4",
   "metadata": {},
   "outputs": [],
   "source": [
    "greet = hello"
   ]
  },
  {
   "cell_type": "code",
   "execution_count": 10,
   "id": "0781d5b2",
   "metadata": {},
   "outputs": [
    {
     "data": {
      "text/plain": [
       "<function __main__.hello()>"
      ]
     },
     "execution_count": 10,
     "metadata": {},
     "output_type": "execute_result"
    }
   ],
   "source": [
    "greet"
   ]
  },
  {
   "cell_type": "code",
   "execution_count": 11,
   "id": "55e049d2",
   "metadata": {},
   "outputs": [],
   "source": [
    "del hello"
   ]
  },
  {
   "cell_type": "code",
   "execution_count": 12,
   "id": "d1419bd9",
   "metadata": {},
   "outputs": [
    {
     "data": {
      "text/plain": [
       "<function __main__.hello()>"
      ]
     },
     "execution_count": 12,
     "metadata": {},
     "output_type": "execute_result"
    }
   ],
   "source": [
    "greet"
   ]
  },
  {
   "cell_type": "code",
   "execution_count": null,
   "id": "b98c370d",
   "metadata": {},
   "outputs": [],
   "source": []
  },
  {
   "cell_type": "code",
   "execution_count": 20,
   "id": "c9581b99",
   "metadata": {},
   "outputs": [],
   "source": [
    "def hello(name='jose'):\n",
    "    print('function hello () has been executed')\n",
    "    \n",
    "    def greet():\n",
    "        return '\\t function greet insdie hello() has been executed'\n",
    "    def welcome():\n",
    "        return '\\t this is welcome inside hello'\n",
    "    \n",
    "#     print(greet())\n",
    "#     print(welcome())\n",
    "    \n",
    "#     print('This is the end of the hello function')\n",
    "    print('I am going to return a function')\n",
    "    \n",
    "    if name == 'jose':\n",
    "        return greet()\n",
    "    \n",
    "    else:\n",
    "        return welcome()"
   ]
  },
  {
   "cell_type": "code",
   "execution_count": 18,
   "id": "73a76cf3",
   "metadata": {},
   "outputs": [
    {
     "name": "stdout",
     "output_type": "stream",
     "text": [
      "function hello () has been executed\n",
      "\t function greet insdie hello() has been executed\n",
      "\t this is welcome inside hello\n",
      "This is the end of the hello function\n"
     ]
    }
   ],
   "source": [
    "hello()"
   ]
  },
  {
   "cell_type": "code",
   "execution_count": 26,
   "id": "206c4f52",
   "metadata": {},
   "outputs": [
    {
     "name": "stdout",
     "output_type": "stream",
     "text": [
      "function hello () has been executed\n",
      "I am going to return a function\n"
     ]
    }
   ],
   "source": [
    "my_function = hello()"
   ]
  },
  {
   "cell_type": "code",
   "execution_count": 30,
   "id": "0f563a11",
   "metadata": {},
   "outputs": [
    {
     "name": "stdout",
     "output_type": "stream",
     "text": [
      "\t function greet insdie hello() has been executed\n"
     ]
    }
   ],
   "source": [
    "print(my_function)"
   ]
  },
  {
   "cell_type": "code",
   "execution_count": 31,
   "id": "6103acce",
   "metadata": {},
   "outputs": [],
   "source": [
    "\n",
    "# PASSING ANY FUNCTION AS AN ARGUMENT\n"
   ]
  },
  {
   "cell_type": "code",
   "execution_count": 37,
   "id": "be45658b",
   "metadata": {},
   "outputs": [],
   "source": [
    "def hello():\n",
    "    return 'hi hose'\n"
   ]
  },
  {
   "cell_type": "code",
   "execution_count": 42,
   "id": "a7a74c9f",
   "metadata": {},
   "outputs": [],
   "source": [
    "def other(some_def_func):\n",
    "    print('Other code runs here!')\n",
    "    print(some_def_func())"
   ]
  },
  {
   "cell_type": "code",
   "execution_count": 39,
   "id": "2904000c",
   "metadata": {},
   "outputs": [
    {
     "name": "stdout",
     "output_type": "stream",
     "text": [
      "Other code runs here!\n",
      "<function hello at 0x00000264997BF5B0>\n"
     ]
    }
   ],
   "source": [
    "other(hello)"
   ]
  },
  {
   "cell_type": "code",
   "execution_count": 40,
   "id": "b8e6ee54",
   "metadata": {},
   "outputs": [
    {
     "data": {
      "text/plain": [
       "<function __main__.hello()>"
      ]
     },
     "execution_count": 40,
     "metadata": {},
     "output_type": "execute_result"
    }
   ],
   "source": [
    "hello"
   ]
  },
  {
   "cell_type": "code",
   "execution_count": 43,
   "id": "4f0569a9",
   "metadata": {},
   "outputs": [
    {
     "name": "stdout",
     "output_type": "stream",
     "text": [
      "Other code runs here!\n",
      "hi hose\n"
     ]
    }
   ],
   "source": [
    "other(hello)"
   ]
  },
  {
   "cell_type": "code",
   "execution_count": null,
   "id": "4bc08524",
   "metadata": {},
   "outputs": [],
   "source": []
  },
  {
   "cell_type": "code",
   "execution_count": 44,
   "id": "8e21cda1",
   "metadata": {},
   "outputs": [],
   "source": [
    "\n",
    "# DECORATOR\n"
   ]
  },
  {
   "cell_type": "code",
   "execution_count": 45,
   "id": "70c77496",
   "metadata": {},
   "outputs": [],
   "source": [
    "def new_decorator(original_fun):\n",
    "    \n",
    "    def wrap():\n",
    "        print('some code before the function')\n",
    "        original_fun()\n",
    "        print('some code after the function')\n",
    "    return wrap"
   ]
  },
  {
   "cell_type": "code",
   "execution_count": 46,
   "id": "0c834b79",
   "metadata": {},
   "outputs": [],
   "source": [
    "def fun_need_deco():\n",
    "    print('I want to be decorated')"
   ]
  },
  {
   "cell_type": "code",
   "execution_count": 47,
   "id": "74704a8d",
   "metadata": {},
   "outputs": [],
   "source": [
    "decorated_fun = new_decorator(fun_need_deco)"
   ]
  },
  {
   "cell_type": "code",
   "execution_count": 48,
   "id": "31af9c13",
   "metadata": {},
   "outputs": [
    {
     "data": {
      "text/plain": [
       "<function __main__.new_decorator.<locals>.wrap()>"
      ]
     },
     "execution_count": 48,
     "metadata": {},
     "output_type": "execute_result"
    }
   ],
   "source": [
    "decorated_fun"
   ]
  },
  {
   "cell_type": "code",
   "execution_count": 49,
   "id": "657c0c7b",
   "metadata": {},
   "outputs": [
    {
     "name": "stdout",
     "output_type": "stream",
     "text": [
      "some code before the function\n",
      "I want to be decorated\n",
      "some code after the function\n"
     ]
    }
   ],
   "source": [
    "decorated_fun()"
   ]
  },
  {
   "cell_type": "code",
   "execution_count": 51,
   "id": "471f574f",
   "metadata": {},
   "outputs": [],
   "source": [
    "@new_decorator\n",
    "def fun_need_deco():\n",
    "    print('I want to be decorated')"
   ]
  },
  {
   "cell_type": "code",
   "execution_count": 52,
   "id": "a2a9241d",
   "metadata": {},
   "outputs": [
    {
     "name": "stdout",
     "output_type": "stream",
     "text": [
      "some code before the function\n",
      "I want to be decorated\n",
      "some code after the function\n"
     ]
    }
   ],
   "source": [
    "fun_need_deco()"
   ]
  },
  {
   "cell_type": "code",
   "execution_count": null,
   "id": "3bbb8646",
   "metadata": {},
   "outputs": [],
   "source": []
  }
 ],
 "metadata": {
  "kernelspec": {
   "display_name": "Python 3 (ipykernel)",
   "language": "python",
   "name": "python3"
  },
  "language_info": {
   "codemirror_mode": {
    "name": "ipython",
    "version": 3
   },
   "file_extension": ".py",
   "mimetype": "text/x-python",
   "name": "python",
   "nbconvert_exporter": "python",
   "pygments_lexer": "ipython3",
   "version": "3.10.5"
  }
 },
 "nbformat": 4,
 "nbformat_minor": 5
}
