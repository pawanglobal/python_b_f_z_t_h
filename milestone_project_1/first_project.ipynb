{
 "cells": [
  {
   "cell_type": "code",
   "execution_count": 1,
   "id": "fd918c2b",
   "metadata": {},
   "outputs": [],
   "source": [
    "from IPython.display import clear_output\n",
    "\n",
    "def display_board(board):\n",
    "    \n",
    "    clear_output()\n",
    "    print(board[7],'|',board[8], '|', board[9])\n",
    "    print('_________\\n')\n",
    "    print(board[4],'|',board[5], '|', board[6])\n",
    "    print('_________\\n')\n",
    "    print(board[1],'|',board[2], '|', board[3])"
   ]
  },
  {
   "cell_type": "code",
   "execution_count": 2,
   "id": "8c2cffb4",
   "metadata": {},
   "outputs": [
    {
     "name": "stdout",
     "output_type": "stream",
     "text": [
      "X | O | X\n",
      "_________\n",
      "\n",
      "O | X | O\n",
      "_________\n",
      "\n",
      "X | O | X\n"
     ]
    }
   ],
   "source": [
    "test_board = ['#','X','O','X','O','X','O','X','O','X']\n",
    "display_board(test_board)\n"
   ]
  },
  {
   "cell_type": "code",
   "execution_count": 3,
   "id": "37bc657c",
   "metadata": {},
   "outputs": [],
   "source": [
    "def player_input():\n",
    "    \n",
    "    '''\n",
    "    OUTPUT = (player1 marker, player2 marker)\n",
    "    \n",
    "    '''\n",
    "    marker = ''\n",
    "    \n",
    "    while marker != 'X' and marker != 'O':\n",
    "        marker = input('Player1 choose X or O: ').upper()\n",
    "        \n",
    "    if marker == 'X':\n",
    "        return ('X', 'O')\n",
    "    \n",
    "    else:\n",
    "        return ('O', 'X')"
   ]
  },
  {
   "cell_type": "code",
   "execution_count": 4,
   "id": "03616259",
   "metadata": {},
   "outputs": [
    {
     "name": "stdout",
     "output_type": "stream",
     "text": [
      "Player1 choose X or O: x\n"
     ]
    }
   ],
   "source": [
    "player1_marker, player2_marker = player_input()\n"
   ]
  },
  {
   "cell_type": "code",
   "execution_count": 5,
   "id": "277799ce",
   "metadata": {},
   "outputs": [
    {
     "data": {
      "text/plain": [
       "'X'"
      ]
     },
     "execution_count": 5,
     "metadata": {},
     "output_type": "execute_result"
    }
   ],
   "source": [
    "player1_marker\n"
   ]
  },
  {
   "cell_type": "code",
   "execution_count": 6,
   "id": "acd0a2dd",
   "metadata": {},
   "outputs": [
    {
     "data": {
      "text/plain": [
       "'O'"
      ]
     },
     "execution_count": 6,
     "metadata": {},
     "output_type": "execute_result"
    }
   ],
   "source": [
    "player2_marker"
   ]
  },
  {
   "cell_type": "code",
   "execution_count": 7,
   "id": "a71105da",
   "metadata": {},
   "outputs": [],
   "source": [
    "def place_marker(board, marker, position):\n",
    "    board[position] = marker\n",
    "    "
   ]
  },
  {
   "cell_type": "code",
   "execution_count": 8,
   "id": "95250427",
   "metadata": {},
   "outputs": [
    {
     "data": {
      "text/plain": [
       "['#', 'X', 'O', 'X', 'O', 'X', 'O', 'X', 'O', 'X']"
      ]
     },
     "execution_count": 8,
     "metadata": {},
     "output_type": "execute_result"
    }
   ],
   "source": [
    "test_board"
   ]
  },
  {
   "cell_type": "code",
   "execution_count": 9,
   "id": "0e6130f0",
   "metadata": {},
   "outputs": [
    {
     "name": "stdout",
     "output_type": "stream",
     "text": [
      "X | O | X\n",
      "_________\n",
      "\n",
      "O | X | $\n",
      "_________\n",
      "\n",
      "X | O | X\n"
     ]
    }
   ],
   "source": [
    "place_marker(test_board, '$' , 6)\n",
    "display_board(test_board)"
   ]
  },
  {
   "cell_type": "code",
   "execution_count": 10,
   "id": "2527b974",
   "metadata": {},
   "outputs": [],
   "source": [
    "def win_check(board, mark):\n",
    "    \n",
    "    return board[7] == mark and board[8] == mark and board[9] == mark  #rows\n",
    "    board[4] == board[5] == board[6] == mark  #rows\n",
    "    board[1] == board[2] == board[3] == mark  #rows\n",
    "    board[7] == board[4] == board[1] == mark  #columns\n",
    "    board[8] == board[5] == board[2] == mark  #columns\n",
    "    board[9] == board[6] == board[3] == mark  #columns\n",
    "    board[7] == board[5] == board[3] == mark  #diagonals\n",
    "    board[9] == board[5] == board[1] == mark  #diagonals       "
   ]
  },
  {
   "cell_type": "code",
   "execution_count": 11,
   "id": "b5f1d5c1",
   "metadata": {},
   "outputs": [
    {
     "data": {
      "text/plain": [
       "False"
      ]
     },
     "execution_count": 11,
     "metadata": {},
     "output_type": "execute_result"
    }
   ],
   "source": [
    "win_check(test_board, 'X')"
   ]
  },
  {
   "cell_type": "code",
   "execution_count": 12,
   "id": "a0c6b951",
   "metadata": {},
   "outputs": [
    {
     "name": "stdout",
     "output_type": "stream",
     "text": [
      "X | O | X\n",
      "_________\n",
      "\n",
      "O | X | $\n",
      "_________\n",
      "\n",
      "X | O | X\n"
     ]
    }
   ],
   "source": [
    "display_board(test_board)"
   ]
  },
  {
   "cell_type": "code",
   "execution_count": 13,
   "id": "e017300d",
   "metadata": {},
   "outputs": [],
   "source": [
    "import random\n",
    "\n",
    "def choose_first():\n",
    "    flip = random.randint(0, 1)\n",
    "\n",
    "    if flip == 0:\n",
    "        return 'Player 1'\n",
    "    else:\n",
    "        return 'Player 2'"
   ]
  },
  {
   "cell_type": "code",
   "execution_count": 14,
   "id": "f5cc62e3",
   "metadata": {},
   "outputs": [],
   "source": [
    "def space_check(board, position):\n",
    "    \n",
    "    return board[position] == ' '"
   ]
  },
  {
   "cell_type": "code",
   "execution_count": 20,
   "id": "76948d24",
   "metadata": {},
   "outputs": [],
   "source": [
    "def full_board_check(board):\n",
    "    \n",
    "    for i in range(1, 10):\n",
    "        if space_check(board, i):\n",
    "            return False\n",
    "    return True"
   ]
  },
  {
   "cell_type": "code",
   "execution_count": 16,
   "id": "fb89c8c0",
   "metadata": {},
   "outputs": [],
   "source": [
    "def player_choice(board):\n",
    "    \n",
    "    position = 0\n",
    "    \n",
    "    while position not in [1, 2, 3, 4, 5, 6, 7, 8, 9] or not space_check(board, position):\n",
    "        position = int(input('Choose a position(1-9): '))\n",
    "        \n",
    "    return position"
   ]
  },
  {
   "cell_type": "code",
   "execution_count": 17,
   "id": "c1cbd374",
   "metadata": {},
   "outputs": [],
   "source": [
    "def replay():\n",
    "    \n",
    "    choice = input('Want to play again!, Enter Yes or No')\n",
    "    \n",
    "    return  choice == 'Yes'"
   ]
  },
  {
   "cell_type": "code",
   "execution_count": 22,
   "id": "246f36de",
   "metadata": {},
   "outputs": [
    {
     "name": "stdout",
     "output_type": "stream",
     "text": [
      "  |   | O\n",
      "_________\n",
      "\n",
      "  |   |  \n",
      "_________\n",
      "\n",
      "  |   |  \n",
      "Tie GAME!!\n",
      "Want to play again!, Enter Yes or Noa\n"
     ]
    }
   ],
   "source": [
    "print(\"Welcome to Tic Tac Toe\")\n",
    "\n",
    "while True:\n",
    "    \n",
    "    the_board = [' ']*10\n",
    "    player1_marker, player2_marker = player_input()\n",
    "    \n",
    "    turn = choose_first()\n",
    "    \n",
    "    print(turn + 'will go first')\n",
    "    \n",
    "    play_game = input('Ready to Play? y or n')\n",
    "    \n",
    "    if play_game == 'y':\n",
    "        game_on = True\n",
    "        \n",
    "    else:\n",
    "        game_on = False\n",
    "        \n",
    "        \n",
    "    while game_on:\n",
    "        if turn == 'player 1':\n",
    "            \n",
    "            display_board (the_board)\n",
    "            \n",
    "            position = player_choice(the_board)\n",
    "            \n",
    "            place_marker(the_board, player1_marker, position)\n",
    "            \n",
    "            if win_check(the_board, player1_marker):\n",
    "                display_board(the_board)\n",
    "                print('Player 1 HAS WON!!')\n",
    "                game_on = False\n",
    "            \n",
    "            else:\n",
    "                if full_board_check(the_board):\n",
    "                    display_board(the_board)\n",
    "                    print(\"Tie GAME!!\")\n",
    "                    game_on = False\n",
    "                    \n",
    "                else:\n",
    "                    turn = 'Player 2'\n",
    "        else:\n",
    "            \n",
    "            display_board (the_board)\n",
    "            \n",
    "            position = player_choice(the_board)\n",
    "            \n",
    "            place_marker(the_board, player2_marker, position)\n",
    "            \n",
    "            if win_check(the_board, player2_marker):\n",
    "                display_board(the_board)\n",
    "                print('Player 2 HAS WON!!')\n",
    "                game_on = False\n",
    "            \n",
    "            else:\n",
    "                if full_board_check(the_board):\n",
    "                    display_board(the_board)\n",
    "                    print(\"Tie GAME!!\")\n",
    "                    game_on = False\n",
    "                    \n",
    "                else:\n",
    "                    turn = 'Player 1'\n",
    "    \n",
    "    if not replay():\n",
    "        break"
   ]
  },
  {
   "cell_type": "markdown",
   "id": "7c21c724",
   "metadata": {},
   "source": [
    "\n",
    "\n",
    "\n"
   ]
  }
 ],
 "metadata": {
  "kernelspec": {
   "display_name": "Python 3 (ipykernel)",
   "language": "python",
   "name": "python3"
  },
  "language_info": {
   "codemirror_mode": {
    "name": "ipython",
    "version": 3
   },
   "file_extension": ".py",
   "mimetype": "text/x-python",
   "name": "python",
   "nbconvert_exporter": "python",
   "pygments_lexer": "ipython3",
   "version": "3.10.5"
  }
 },
 "nbformat": 4,
 "nbformat_minor": 5
}
