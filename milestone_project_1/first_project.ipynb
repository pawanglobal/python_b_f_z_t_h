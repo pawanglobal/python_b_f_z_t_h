{
 "cells": [
  {
   "cell_type": "code",
   "execution_count": 125,
   "id": "5de3ad9d",
   "metadata": {},
   "outputs": [],
   "source": [
    "from IPython.display import clear_output\n",
    "\n",
    "def display_board(board):\n",
    "    \n",
    "    clear_output()\n",
    "    print(board[7],'|',board[8], '|', board[9])\n",
    "    print('_________\\n')\n",
    "    print(board[4],'|',board[5], '|', board[6])\n",
    "    print('_________\\n')\n",
    "    print(board[1],'|',board[2], '|', board[3])"
   ]
  },
  {
   "cell_type": "code",
   "execution_count": 126,
   "id": "2b3c48ec",
   "metadata": {},
   "outputs": [
    {
     "name": "stdout",
     "output_type": "stream",
     "text": [
      "X | O | X\n",
      "_________\n",
      "\n",
      "O | X | O\n",
      "_________\n",
      "\n",
      "X | O | X\n"
     ]
    }
   ],
   "source": [
    "test_board = ['#','X','O','X','O','X','O','X','O','X']\n",
    "display_board(test_board)\n"
   ]
  },
  {
   "cell_type": "code",
   "execution_count": null,
   "id": "17c4762a",
   "metadata": {},
   "outputs": [],
   "source": []
  }
 ],
 "metadata": {
  "kernelspec": {
   "display_name": "Python 3 (ipykernel)",
   "language": "python",
   "name": "python3"
  },
  "language_info": {
   "codemirror_mode": {
    "name": "ipython",
    "version": 3
   },
   "file_extension": ".py",
   "mimetype": "text/x-python",
   "name": "python",
   "nbconvert_exporter": "python",
   "pygments_lexer": "ipython3",
   "version": "3.10.5"
  }
 },
 "nbformat": 4,
 "nbformat_minor": 5
}
