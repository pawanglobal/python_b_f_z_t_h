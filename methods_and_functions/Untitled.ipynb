{
 "cells": [
  {
   "cell_type": "code",
   "execution_count": null,
   "id": "09c45e3c",
   "metadata": {},
   "outputs": [],
   "source": [
    "#methods"
   ]
  },
  {
   "cell_type": "code",
   "execution_count": 1,
   "id": "50b9f2b8",
   "metadata": {},
   "outputs": [],
   "source": [
    "my_list = [1, 2, 2, 3]"
   ]
  },
  {
   "cell_type": "code",
   "execution_count": 2,
   "id": "2b518e3f",
   "metadata": {},
   "outputs": [],
   "source": [
    "my_list.append(4)"
   ]
  },
  {
   "cell_type": "code",
   "execution_count": 3,
   "id": "9b3a523b",
   "metadata": {},
   "outputs": [
    {
     "data": {
      "text/plain": [
       "[1, 2, 2, 3, 4]"
      ]
     },
     "execution_count": 3,
     "metadata": {},
     "output_type": "execute_result"
    }
   ],
   "source": [
    "my_list"
   ]
  },
  {
   "cell_type": "code",
   "execution_count": 4,
   "id": "6ccc4657",
   "metadata": {},
   "outputs": [
    {
     "name": "stdout",
     "output_type": "stream",
     "text": [
      "Help on built-in function insert:\n",
      "\n",
      "insert(index, object, /) method of builtins.list instance\n",
      "    Insert object before index.\n",
      "\n"
     ]
    }
   ],
   "source": [
    "help(my_list.insert)"
   ]
  },
  {
   "cell_type": "code",
   "execution_count": 5,
   "id": "c03a6ee8",
   "metadata": {},
   "outputs": [],
   "source": [
    "#functions"
   ]
  },
  {
   "cell_type": "code",
   "execution_count": 9,
   "id": "a22b0e53",
   "metadata": {},
   "outputs": [],
   "source": [
    "def say_hello():\n",
    "    print(\"hello\")\n",
    "    print(\"how\")"
   ]
  },
  {
   "cell_type": "code",
   "execution_count": 10,
   "id": "9651af28",
   "metadata": {},
   "outputs": [
    {
     "name": "stdout",
     "output_type": "stream",
     "text": [
      "hello\n",
      "how\n"
     ]
    }
   ],
   "source": [
    "say_hello()"
   ]
  },
  {
   "cell_type": "code",
   "execution_count": 12,
   "id": "5fc7f885",
   "metadata": {},
   "outputs": [],
   "source": [
    "def what_name(name):\n",
    "    print(f\"{name}\")"
   ]
  },
  {
   "cell_type": "code",
   "execution_count": 13,
   "id": "1127fdd1",
   "metadata": {},
   "outputs": [
    {
     "name": "stdout",
     "output_type": "stream",
     "text": [
      "jose\n"
     ]
    }
   ],
   "source": [
    "what_name(\"jose\")"
   ]
  },
  {
   "cell_type": "code",
   "execution_count": 14,
   "id": "2d081cb9",
   "metadata": {},
   "outputs": [],
   "source": [
    "def what_name(name=\"default\"):\n",
    "    print(f\"{name}\")"
   ]
  },
  {
   "cell_type": "code",
   "execution_count": 15,
   "id": "1ab0c191",
   "metadata": {},
   "outputs": [
    {
     "name": "stdout",
     "output_type": "stream",
     "text": [
      "default\n"
     ]
    }
   ],
   "source": [
    "what_name()"
   ]
  },
  {
   "cell_type": "code",
   "execution_count": 16,
   "id": "24a0beb7",
   "metadata": {},
   "outputs": [],
   "source": [
    "#return"
   ]
  },
  {
   "cell_type": "code",
   "execution_count": 17,
   "id": "26fd445b",
   "metadata": {},
   "outputs": [],
   "source": [
    "def my_num(num_1, num_2):\n",
    "    return num_1 + num_2"
   ]
  },
  {
   "cell_type": "code",
   "execution_count": 18,
   "id": "1cabc6d3",
   "metadata": {},
   "outputs": [
    {
     "data": {
      "text/plain": [
       "3"
      ]
     },
     "execution_count": 18,
     "metadata": {},
     "output_type": "execute_result"
    }
   ],
   "source": [
    "my_num(1, 2)"
   ]
  },
  {
   "cell_type": "code",
   "execution_count": 19,
   "id": "d90a00bd",
   "metadata": {},
   "outputs": [],
   "source": [
    "#so return gives the value"
   ]
  },
  {
   "cell_type": "code",
   "execution_count": 20,
   "id": "6df0a0f3",
   "metadata": {},
   "outputs": [],
   "source": [
    "#functions with logic"
   ]
  },
  {
   "cell_type": "code",
   "execution_count": 21,
   "id": "e21315c8",
   "metadata": {},
   "outputs": [],
   "source": [
    "#tuple unpacking with functions"
   ]
  },
  {
   "cell_type": "code",
   "execution_count": 22,
   "id": "668e0b78",
   "metadata": {},
   "outputs": [],
   "source": [
    "stock_prices = [('appl', 100), ('msf', 200), ('goo', 300)]"
   ]
  },
  {
   "cell_type": "code",
   "execution_count": 24,
   "id": "b7e8670e",
   "metadata": {},
   "outputs": [
    {
     "name": "stdout",
     "output_type": "stream",
     "text": [
      "('goo', 300)\n",
      "('goo', 300)\n",
      "('goo', 300)\n"
     ]
    }
   ],
   "source": [
    "for item in stock_prices:\n",
    "    print(prices)"
   ]
  },
  {
   "cell_type": "code",
   "execution_count": 25,
   "id": "97192984",
   "metadata": {},
   "outputs": [
    {
     "name": "stdout",
     "output_type": "stream",
     "text": [
      "appl\n",
      "msf\n",
      "goo\n"
     ]
    }
   ],
   "source": [
    "for company, price in stock_prices:\n",
    "    print(company)"
   ]
  },
  {
   "cell_type": "code",
   "execution_count": 27,
   "id": "4c8a2064",
   "metadata": {},
   "outputs": [],
   "source": [
    "work_hours = [('Abby', 100), ('Jose', 200), ('Neil', 300)]"
   ]
  },
  {
   "cell_type": "code",
   "execution_count": 30,
   "id": "36e85c06",
   "metadata": {},
   "outputs": [],
   "source": [
    "def employee_check(work_hours):   \n",
    "    max_hours = 0\n",
    "    employ_of_the_month = ''\n",
    "\n",
    "    for employ, work_hour in work_hours:\n",
    "        if work_hour > max_hours:\n",
    "            max_hours = work_hour\n",
    "            employ_of_the_month = employ\n",
    "        else:\n",
    "            pass\n",
    "\n",
    "    return(employ_of_the_month, max_hours)"
   ]
  },
  {
   "cell_type": "code",
   "execution_count": 31,
   "id": "2f214656",
   "metadata": {},
   "outputs": [
    {
     "data": {
      "text/plain": [
       "('Neil', 300)"
      ]
     },
     "execution_count": 31,
     "metadata": {},
     "output_type": "execute_result"
    }
   ],
   "source": [
    "employee_check(work_hours)"
   ]
  },
  {
   "cell_type": "code",
   "execution_count": 32,
   "id": "2dacd619",
   "metadata": {},
   "outputs": [],
   "source": [
    "name, hours = employee_check(work_hours)"
   ]
  },
  {
   "cell_type": "code",
   "execution_count": 33,
   "id": "f684517f",
   "metadata": {},
   "outputs": [
    {
     "data": {
      "text/plain": [
       "'Neil'"
      ]
     },
     "execution_count": 33,
     "metadata": {},
     "output_type": "execute_result"
    }
   ],
   "source": [
    "name"
   ]
  },
  {
   "cell_type": "code",
   "execution_count": 34,
   "id": "fe1e787d",
   "metadata": {},
   "outputs": [
    {
     "data": {
      "text/plain": [
       "300"
      ]
     },
     "execution_count": 34,
     "metadata": {},
     "output_type": "execute_result"
    }
   ],
   "source": [
    "hours"
   ]
  },
  {
   "cell_type": "code",
   "execution_count": 35,
   "id": "bb7f2393",
   "metadata": {},
   "outputs": [],
   "source": [
    "result = employee_check(work_hours)"
   ]
  },
  {
   "cell_type": "code",
   "execution_count": 36,
   "id": "795311b7",
   "metadata": {},
   "outputs": [
    {
     "data": {
      "text/plain": [
       "('Neil', 300)"
      ]
     },
     "execution_count": 36,
     "metadata": {},
     "output_type": "execute_result"
    }
   ],
   "source": [
    "result"
   ]
  },
  {
   "cell_type": "code",
   "execution_count": 37,
   "id": "76a1ff21",
   "metadata": {},
   "outputs": [],
   "source": [
    "#Interactions between python  functions"
   ]
  },
  {
   "cell_type": "code",
   "execution_count": 38,
   "id": "82dfa41b",
   "metadata": {},
   "outputs": [],
   "source": [
    "example = [1, 2, 3, 3, 4, 4, 5, 5, 6]"
   ]
  },
  {
   "cell_type": "code",
   "execution_count": 40,
   "id": "b2fafbcd",
   "metadata": {},
   "outputs": [],
   "source": [
    "from random import shuffle\n",
    "shuffle(example)"
   ]
  },
  {
   "cell_type": "code",
   "execution_count": 41,
   "id": "79a91f70",
   "metadata": {},
   "outputs": [
    {
     "data": {
      "text/plain": [
       "[5, 4, 6, 2, 3, 3, 1, 5, 4]"
      ]
     },
     "execution_count": 41,
     "metadata": {},
     "output_type": "execute_result"
    }
   ],
   "source": [
    "example"
   ]
  },
  {
   "cell_type": "code",
   "execution_count": 43,
   "id": "5bf61290",
   "metadata": {},
   "outputs": [],
   "source": [
    "def shuffle_list(my_list):\n",
    "    shuffle(my_list)\n",
    "    return my_list\n",
    "result = shuffle_list(example)"
   ]
  },
  {
   "cell_type": "code",
   "execution_count": 45,
   "id": "288f30fa",
   "metadata": {},
   "outputs": [
    {
     "data": {
      "text/plain": [
       "[3, 2, 6, 4, 1, 3, 4, 5, 5]"
      ]
     },
     "execution_count": 45,
     "metadata": {},
     "output_type": "execute_result"
    }
   ],
   "source": [
    "result"
   ]
  },
  {
   "cell_type": "code",
   "execution_count": 46,
   "id": "412ed269",
   "metadata": {},
   "outputs": [],
   "source": [
    "my_list = ['', 0, '']"
   ]
  },
  {
   "cell_type": "code",
   "execution_count": 50,
   "id": "9662e11b",
   "metadata": {},
   "outputs": [],
   "source": [
    "def player_guess():\n",
    "    \n",
    "    guess = ''\n",
    "    while guess not in ['1', '2', '0']:\n",
    "        guess = input( \"Pick a number: 0, 1, or 2\")\n",
    "        \n",
    "    return int(guess)"
   ]
  },
  {
   "cell_type": "code",
   "execution_count": 51,
   "id": "92db3da3",
   "metadata": {},
   "outputs": [
    {
     "name": "stdout",
     "output_type": "stream",
     "text": [
      "Pick a number: 0, 1, or 24\n",
      "Pick a number: 0, 1, or 24\n",
      "Pick a number: 0, 1, or 24\n",
      "Pick a number: 0, 1, or 24\n",
      "Pick a number: 0, 1, or 25\n",
      "Pick a number: 0, 1, or 22\n"
     ]
    },
    {
     "data": {
      "text/plain": [
       "2"
      ]
     },
     "execution_count": 51,
     "metadata": {},
     "output_type": "execute_result"
    }
   ],
   "source": [
    "player_guess()"
   ]
  },
  {
   "cell_type": "code",
   "execution_count": 52,
   "id": "179456b9",
   "metadata": {},
   "outputs": [],
   "source": [
    "# *args and **kwargs in Python"
   ]
  },
  {
   "cell_type": "code",
   "execution_count": 53,
   "id": "cd86780b",
   "metadata": {},
   "outputs": [],
   "source": [
    "#all args and key-word args"
   ]
  },
  {
   "cell_type": "code",
   "execution_count": 56,
   "id": "3d7edc2e",
   "metadata": {},
   "outputs": [],
   "source": [
    "def my_func(*args):\n",
    "    return sum(args) * 0.05"
   ]
  },
  {
   "cell_type": "code",
   "execution_count": 57,
   "id": "d2d4656b",
   "metadata": {},
   "outputs": [
    {
     "data": {
      "text/plain": [
       "40.0"
      ]
     },
     "execution_count": 57,
     "metadata": {},
     "output_type": "execute_result"
    }
   ],
   "source": [
    "my_func(400, 400)"
   ]
  },
  {
   "cell_type": "code",
   "execution_count": 2,
   "id": "c6ca75c3",
   "metadata": {},
   "outputs": [],
   "source": [
    "# Lambda expressions, ap and filer"
   ]
  },
  {
   "cell_type": "code",
   "execution_count": 3,
   "id": "64d37ed0",
   "metadata": {},
   "outputs": [],
   "source": [
    "#map"
   ]
  },
  {
   "cell_type": "code",
   "execution_count": 5,
   "id": "2d9608f5",
   "metadata": {},
   "outputs": [],
   "source": [
    "def square(num):\n",
    "    return num**2"
   ]
  },
  {
   "cell_type": "code",
   "execution_count": 7,
   "id": "cc482022",
   "metadata": {},
   "outputs": [],
   "source": [
    "my_list = [1, 2, 3, 3, 5]"
   ]
  },
  {
   "cell_type": "code",
   "execution_count": 9,
   "id": "fe94bf3b",
   "metadata": {},
   "outputs": [
    {
     "data": {
      "text/plain": [
       "[1, 4, 9, 9, 25]"
      ]
     },
     "execution_count": 9,
     "metadata": {},
     "output_type": "execute_result"
    }
   ],
   "source": [
    "list(map(square, my_list))"
   ]
  },
  {
   "cell_type": "code",
   "execution_count": 10,
   "id": "3dac1fa6",
   "metadata": {},
   "outputs": [],
   "source": [
    "def even(num):\n",
    "    return num%2 ==0"
   ]
  },
  {
   "cell_type": "code",
   "execution_count": 13,
   "id": "f57c655a",
   "metadata": {},
   "outputs": [
    {
     "data": {
      "text/plain": [
       "[2]"
      ]
     },
     "execution_count": 13,
     "metadata": {},
     "output_type": "execute_result"
    }
   ],
   "source": [
    "list(filter(even, my_list))"
   ]
  },
  {
   "cell_type": "code",
   "execution_count": 21,
   "id": "7e0a4fd0",
   "metadata": {},
   "outputs": [
    {
     "data": {
      "text/plain": [
       "<function __main__.<lambda>(num)>"
      ]
     },
     "execution_count": 21,
     "metadata": {},
     "output_type": "execute_result"
    }
   ],
   "source": [
    "lambda num: num**2"
   ]
  },
  {
   "cell_type": "code",
   "execution_count": null,
   "id": "725036d0",
   "metadata": {},
   "outputs": [],
   "source": [
    "# Nested statements and Scope"
   ]
  }
 ],
 "metadata": {
  "kernelspec": {
   "display_name": "Python 3 (ipykernel)",
   "language": "python",
   "name": "python3"
  },
  "language_info": {
   "codemirror_mode": {
    "name": "ipython",
    "version": 3
   },
   "file_extension": ".py",
   "mimetype": "text/x-python",
   "name": "python",
   "nbconvert_exporter": "python",
   "pygments_lexer": "ipython3",
   "version": "3.10.5"
  }
 },
 "nbformat": 4,
 "nbformat_minor": 5
}
