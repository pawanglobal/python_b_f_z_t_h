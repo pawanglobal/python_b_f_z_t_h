{
 "cells": [
  {
   "cell_type": "code",
   "execution_count": 1,
   "id": "b15d5a8c",
   "metadata": {},
   "outputs": [],
   "source": [
    "\n",
    "# Introduction to PYTHON DATA TYPES\n"
   ]
  },
  {
   "cell_type": "code",
   "execution_count": 7,
   "id": "fb906a6f",
   "metadata": {},
   "outputs": [
    {
     "name": "stdout",
     "output_type": "stream",
     "text": [
      "Hello World!\n"
     ]
    }
   ],
   "source": [
    "# string(str)\n",
    "\n",
    "print('Hello World!')"
   ]
  },
  {
   "cell_type": "code",
   "execution_count": 10,
   "id": "f553e8ef",
   "metadata": {},
   "outputs": [],
   "source": [
    "# integers(int)\n",
    "\n",
    "a = 1"
   ]
  },
  {
   "cell_type": "code",
   "execution_count": 11,
   "id": "e5a5b7f1",
   "metadata": {},
   "outputs": [
    {
     "data": {
      "text/plain": [
       "1"
      ]
     },
     "execution_count": 11,
     "metadata": {},
     "output_type": "execute_result"
    }
   ],
   "source": [
    "a"
   ]
  },
  {
   "cell_type": "code",
   "execution_count": 12,
   "id": "35548996",
   "metadata": {},
   "outputs": [
    {
     "name": "stdout",
     "output_type": "stream",
     "text": [
      "1.3333333333333333\n"
     ]
    }
   ],
   "source": [
    "# float\n",
    "\n",
    "print(4/3)"
   ]
  },
  {
   "cell_type": "code",
   "execution_count": 13,
   "id": "0f216660",
   "metadata": {},
   "outputs": [],
   "source": [
    "# lists(list)\n",
    "# tuples(tup)\n",
    "# sets(set)\n",
    "# dictionaries(dic)\n",
    "# booleans(bool)"
   ]
  },
  {
   "cell_type": "code",
   "execution_count": 14,
   "id": "f331ab1b",
   "metadata": {},
   "outputs": [],
   "source": [
    "# python numbers"
   ]
  },
  {
   "cell_type": "code",
   "execution_count": null,
   "id": "2ebaf8a7",
   "metadata": {},
   "outputs": [],
   "source": []
  }
 ],
 "metadata": {
  "kernelspec": {
   "display_name": "Python 3 (ipykernel)",
   "language": "python",
   "name": "python3"
  },
  "language_info": {
   "codemirror_mode": {
    "name": "ipython",
    "version": 3
   },
   "file_extension": ".py",
   "mimetype": "text/x-python",
   "name": "python",
   "nbconvert_exporter": "python",
   "pygments_lexer": "ipython3",
   "version": "3.11.3"
  }
 },
 "nbformat": 4,
 "nbformat_minor": 5
}
